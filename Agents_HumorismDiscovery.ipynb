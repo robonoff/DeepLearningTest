{
 "cells": [
  {
   "cell_type": "code",
   "execution_count": 5,
   "id": "4ae300d1",
   "metadata": {},
   "outputs": [
    {
     "name": "stdout",
     "output_type": "stream",
     "text": [
      "Requirement already satisfied: python-dotenv in ./.venv/lib/python3.12/site-packages (from -r requirements.txt (line 1)) (1.1.0)\n",
      "Requirement already satisfied: requests in ./.venv/lib/python3.12/site-packages (from -r requirements.txt (line 2)) (2.32.3)\n",
      "Requirement already satisfied: charset-normalizer<4,>=2 in ./.venv/lib/python3.12/site-packages (from requests->-r requirements.txt (line 2)) (3.4.2)\n",
      "Requirement already satisfied: idna<4,>=2.5 in ./.venv/lib/python3.12/site-packages (from requests->-r requirements.txt (line 2)) (3.10)\n",
      "Requirement already satisfied: urllib3<3,>=1.21.1 in ./.venv/lib/python3.12/site-packages (from requests->-r requirements.txt (line 2)) (2.4.0)\n",
      "Requirement already satisfied: certifi>=2017.4.17 in ./.venv/lib/python3.12/site-packages (from requests->-r requirements.txt (line 2)) (2025.4.26)\n",
      "{\n",
      "  \"id\": \"llama3.3:latest-afb9f3ba-0c88-4b07-b038-b3f4ed25b006\",\n",
      "  \"created\": 1747584457,\n",
      "  \"model\": \"llama3.3:latest\",\n",
      "  \"choices\": [\n",
      "    {\n",
      "      \"index\": 0,\n",
      "      \"logprobs\": null,\n",
      "      \"finish_reason\": \"stop\",\n",
      "      \"message\": {\n",
      "        \"content\": \"La capitale dell'Italia \\u00e8 Roma.\",\n",
      "        \"role\": \"assistant\"\n",
      "      }\n",
      "    }\n",
      "  ],\n",
      "  \"object\": \"chat.completion\",\n",
      "  \"usage\": {\n",
      "    \"response_token/s\": 31.8,\n",
      "    \"prompt_token/s\": 1169.84,\n",
      "    \"total_duration\": 551546929,\n",
      "    \"load_duration\": 15243990,\n",
      "    \"prompt_eval_count\": 259,\n",
      "    \"prompt_tokens\": 259,\n",
      "    \"prompt_eval_duration\": 221397995,\n",
      "    \"eval_count\": 10,\n",
      "    \"completion_tokens\": 10,\n",
      "    \"eval_duration\": 314486933,\n",
      "    \"approximate_total\": \"0h0m0s\",\n",
      "    \"total_tokens\": 269,\n",
      "    \"completion_tokens_details\": {\n",
      "      \"reasoning_tokens\": 0,\n",
      "      \"accepted_prediction_tokens\": 0,\n",
      "      \"rejected_prediction_tokens\": 0\n",
      "    }\n",
      "  }\n",
      "}\n"
     ]
    }
   ],
   "source": [
    "!pip install -r requirements.txt\n",
    "from dotenv import load_dotenv\n",
    "import os, requests, json\n",
    "\n",
    "load_dotenv()\n",
    "\n",
    "token = os.getenv(\"TOKEN\")\n",
    "if not token:\n",
    "    raise ValueError(\"TOKEN non definito. Esegui: export TOKEN='...'\")\n",
    "url = os.getenv(\"OPENAI_BASE_URL\", \"http://10.128.2.165:8080/api\") + \"/chat/completions\"\n",
    "\n",
    "\n",
    "payload = {\n",
    "    \"model\": \"llama3.3:latest\",\n",
    "    \"messages\": [{\"role\": \"user\", \"content\": \"Qual è la capitale dell'Italia?\"}],\n",
    "    \"max_tokens\": 128\n",
    "}\n",
    "\n",
    "headers = {\n",
    "    \"Authorization\": f\"Bearer {token}\",\n",
    "    \"Content-Type\": \"application/json\"\n",
    "}\n",
    "\n",
    "r = requests.post(url, json=payload, headers=headers, timeout=60)\n",
    "response_json = r.json()\n",
    "with open(\"risposta.json\", \"w\") as f:\n",
    "    json.dump(response_json, f, indent=2)\n",
    "print(json.dumps(r.json(), indent=2))\n",
    "\n"
   ]
  }
 ],
 "metadata": {
  "kernelspec": {
   "display_name": ".venv",
   "language": "python",
   "name": "python3"
  },
  "language_info": {
   "codemirror_mode": {
    "name": "ipython",
    "version": 3
   },
   "file_extension": ".py",
   "mimetype": "text/x-python",
   "name": "python",
   "nbconvert_exporter": "python",
   "pygments_lexer": "ipython3",
   "version": "3.12.3"
  }
 },
 "nbformat": 4,
 "nbformat_minor": 5
}
